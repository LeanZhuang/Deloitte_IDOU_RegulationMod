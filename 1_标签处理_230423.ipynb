{
 "cells": [
  {
   "cell_type": "code",
   "execution_count": 1,
   "metadata": {},
   "outputs": [],
   "source": [
    "import pandas as pd\n",
    "import numpy as np\n",
    "from datetime import datetime\n",
    "import re\n",
    "\n",
    "from modules.info import *\n",
    "from modules.save2csv import *\n",
    "from modules.judge_type import *  # 导入企业规模判断函数\n"
   ]
  },
  {
   "cell_type": "code",
   "execution_count": 2,
   "metadata": {},
   "outputs": [],
   "source": [
    "# 加载已经提数的主体清单\n",
    "entity = pd.read_csv(path + 'data/主体提数_230423.csv')\n",
    "\n",
    "entity['NOTES_AOO_AuditOpinion_idou'] = np.nan  # TODO: 补充缺失的审计意见\n",
    "\n",
    "# 加载主体分类清单\n",
    "entity_A = pd.read_excel(path + 'rules/主体分类清单_230228/A股上市.xlsx')\n",
    "entity_IPO = pd.read_excel(path + 'rules/主体分类清单_230228/IPO.xlsx')\n",
    "entity_Bond = pd.read_excel(path + 'rules/主体分类清单_230228/债券存续主体.xlsx')\n",
    "entity_toBond = pd.read_excel(path + 'rules/主体分类清单_230228/待发行债券主体.xlsx')\n",
    "entity_cBond = pd.read_excel(path + 'rules/主体分类清单_230228/可转债.xlsx')\n",
    "\n",
    "# 加载行业映射表\n",
    "ind1 = pd.read_excel(path + 'rules/行业映射表/一级.xlsx')\n",
    "ind2 = pd.read_excel(path + 'rules/行业映射表/二级.xlsx')\n",
    "ind3 = pd.read_excel(path + 'rules/行业映射表/三级.xlsx')\n",
    "ind4 = pd.read_excel(path + 'rules/行业映射表/四级.xlsx')\n",
    "\n",
    "# 加载行业规模判断表\n",
    "ind_rule = pd.read_excel(path + 'rules/行业规模判断_230418.xlsx')\n"
   ]
  },
  {
   "cell_type": "code",
   "execution_count": 3,
   "metadata": {},
   "outputs": [],
   "source": [
    "# 开始计算标签\n",
    "# 发行状态\n",
    "conditions = [\n",
    "    entity['证券代码'].isin(entity_IPO['证券代码']),\n",
    "    entity['证券代码'].isin(entity_A['证券代码'])\n",
    "]\n",
    "choices = ['IPO', 'A股上市']\n",
    "entity['ComFeature-AShare-Category'] = np.select(conditions, choices, default='其他')\n",
    "\n",
    "# 上市板块\n",
    "entity['ComFeature-AShare-Market'] = entity['上市板']\n",
    "entity.loc[~entity['ComFeature-AShare-Market'].isin(['主板', '创业板', '科创板', '北证']), 'ComFeature-AShare-Market'] = np.nan\n",
    "\n",
    "# 上市地点\n",
    "entity['ComFeature-AShare-Local'] = entity['股票上市地点']\n",
    "entity.loc[~entity['ComFeature-AShare-Local'].isin(['上海', '深圳', '北京']), 'ComFeature-AShare-Local'] = np.nan\n",
    "\n",
    "# 境内企业\n",
    "entity['ComFeature-ListInfo-Mainland'] = np.where(entity['统一社会信用代码'].str.startswith('91'), True, False)\n",
    "\n",
    "# 营业收入快速增长企业\n",
    "entity['Increase_rate-3Y'] = (entity['营业收入21']/entity['营业收入19'])**(1/3) - 1\n",
    "entity['ComFeature-ListPerform-Increase'] = np.where(\n",
    "    ((entity['营业收入21'] >= 5000000000) & (entity['Increase_rate-3Y']>0.1))|\n",
    "    ((entity['营业收入21'] < 5000000000) & (entity['Increase_rate-3Y']>0.2)),\n",
    "    True, False\n",
    ")\n",
    "\n",
    "# 具有表决权差异\n",
    "entity['ComFeature-ListEquity-Diff'] = np.where(entity['是否存在投票权差异'] == 1, True, False)\n",
    "\n",
    "# 尚未在境外上市的红筹企业\n",
    "entity['ComFeature-ListInfo-RedChip'] = np.where(entity['ComFeature-ListInfo-Mainland'] == False, True, False)\n"
   ]
  },
  {
   "cell_type": "code",
   "execution_count": 4,
   "metadata": {},
   "outputs": [],
   "source": [
    "# 拟发行债券/有存续债券\n",
    "entity['ComFeature-BondIssue-Issuing'] = np.where(entity['统一社会信用代码'].isin(entity_Bond['统一社会信用代码']), True, False)\n",
    "entity['ComFeature-BondIssue-ToIssue'] = np.where(entity['统一社会信用代码'].isin(entity_toBond['统一社会信用代码']), True, False)\n",
    "\n",
    "# 短期融资券/企业债/公司债/中期票据\n",
    "entity['ComFeature-BondIssue-ShortTerm'] = np.where(entity['Wind债券二级分类'] == '一般短期融资券', True, False)\n",
    "entity['ComFeature-BondIssue-Enterprise'] = np.where(entity['Wind债券二级分类'] == '一般企业债', True, False)\n",
    "entity['ComFeature-BondIssue-Company'] = np.where(entity['Wind债券二级分类'] == '一般公司债', True, False)\n",
    "entity['ComFeature-BondIssue-Medium'] = np.where(entity['Wind债券二级分类'] == '一般中期票据', True, False)"
   ]
  },
  {
   "cell_type": "code",
   "execution_count": 5,
   "metadata": {},
   "outputs": [
    {
     "name": "stderr",
     "output_type": "stream",
     "text": [
      "/var/folders/21/r5tywv_91vz_8s1tgrs4qpjm0000gn/T/ipykernel_12986/1769688059.py:3: FutureWarning: The default value of regex will change from True to False in a future version.\n",
      "  entity['申万一级行业分类'] = entity['申万一级行业分类'].str.replace('(2021)', '')\n"
     ]
    }
   ],
   "source": [
    "# 是否金融类企业\n",
    "# 若【Wind二级行业分类】为以下之一：\"银行\"、\"金融\"、\"多元金融\"、\"保险II\"，或【申万一级行业分类】为以下之一：\"银行\"、\"非银金融\"，则为TRUE；否则为FALSE\n",
    "entity['申万一级行业分类'] = entity['申万一级行业分类'].str.replace('(2021)', '')\n",
    "\n",
    "entity['ComFeature-BondInd-IfFin'] = np.where((entity['Wind二级行业分类'].isin([\"银行\", \"金融\", \"多元金融\", \"保险II\"]))|(entity['申万一级行业分类'].isin([\"银行\", \"非银金融\"])), True, False)\n",
    "\n",
    "# 非金融企业债务融资工具\n",
    "# 若发行人【金融类企业】为fALSE且【NAFMII债券一级分类】为：短期融资券／中期票据／超短期融资券／中小企业集合票据，则为TRUE\n",
    "entity['ComFeature-BondIssue-NonFin'] = np.where((entity['NAFMII债券一级分类'].isin(['短期融资券', '中期票据', '超短期融资券', '中小企业集合票据']))|(entity['ComFeature-BondInd-IfFin'] == False), True, False)\n"
   ]
  },
  {
   "cell_type": "code",
   "execution_count": 6,
   "metadata": {},
   "outputs": [],
   "source": [
    "# 是否国有企业\n",
    "# 若企业【企业性质】（PROFILE_type）为【中央国有企业】或【地方国有企业和集体企业】时为True，否则为False\n",
    "entity['ComFeature-BondProp-IfState'] = np.where(entity['公司属性'].isin([\"中央国有企业\", \"地方国有企业\", \"集体企业\"]), True, False)\n"
   ]
  },
  {
   "cell_type": "code",
   "execution_count": 7,
   "metadata": {},
   "outputs": [],
   "source": [
    "# 上市地点：上海/深圳/北京/银行间\n",
    "entity['ComFeature-BondIssue-LocalSH'] = np.where(entity['债券上市地点']=='上海', True, False)\n",
    "entity['ComFeature-BondIssue-LocalSZ'] = np.where(entity['债券上市地点']=='深圳', True, False)\n",
    "entity['ComFeature-BondIssue-LocalBJ'] = np.where(entity['债券上市地点']=='北京', True, False)\n",
    "entity['ComFeature-BondIssue-LocalBank'] = np.where(entity['债券上市地点']=='银行间', True, False)\n"
   ]
  },
  {
   "cell_type": "code",
   "execution_count": 8,
   "metadata": {},
   "outputs": [],
   "source": [
    "# 科技创新公司债券\n",
    "entity['ComFeature-BondInd-ITBond'] = np.where(entity['模型敞口']=='M001', True, False)\n",
    "\n",
    "# 是否为短期公司债\n",
    "entity['ComFeature-BondIssue-ShortTerm'] = np.where((entity['债券期限'] <= 1)&(entity['ComFeature-BondIssue-Company'] == True), True, False)\n"
   ]
  },
  {
   "cell_type": "code",
   "execution_count": 9,
   "metadata": {},
   "outputs": [],
   "source": [
    "# 可转债  TODO: 数据可能不全\n",
    "entity['ComFeature-BondIssue-Conv'] = np.where(entity['统一社会信用代码'].isin(entity_cBond['统一社会信用代码']), True, False)"
   ]
  },
  {
   "cell_type": "code",
   "execution_count": 10,
   "metadata": {},
   "outputs": [],
   "source": [
    "# 企业性质：全国国有/地方国有/其他\n",
    "conditions = [\n",
    "    entity['公司属性'] == '全国国有企业',\n",
    "    entity['公司属性'] == '地方国有企业'\n",
    "]\n",
    "choices = ['全国国有企业', '地方国有企业']\n",
    "entity['ComFeature-GeneralEquity-Feature'] = np.select(conditions, choices, default='其他')\n",
    "\n",
    "# 是否城投企业\n",
    "entity['ComFeature-Ind-CountryInv'] = np.where((entity['Wind城投债判定'] == True)|(entity['YY城投债判定'] == True), True, False)"
   ]
  },
  {
   "cell_type": "code",
   "execution_count": 11,
   "metadata": {},
   "outputs": [],
   "source": [
    "# 审计意见严重程度\n",
    "conditions = [\n",
    "    entity['NOTES_AOO_AuditOpinion_idou'] == '标准无保留意见',\n",
    "    entity['NOTES_AOO_AuditOpinion_idou'] == '带强调事项段的无保留意见',\n",
    "    entity['NOTES_AOO_AuditOpinion_idou'] == '保留意见',\n",
    "    entity['NOTES_AOO_AuditOpinion_idou'] == '无法表示意见',\n",
    "    entity['NOTES_AOO_AuditOpinion_idou'] == '否定意见'\n",
    "]\n",
    "choices = [1, 2, 3, 4, 5]\n",
    "\n",
    "entity['ComFeature-GeneralPerform-Audit'] = np.select(conditions, choices, default=np.nan)\n",
    "\n",
    "# 审计意见达标\n",
    "entity['ComFeature-GeneralPerform-IfGoodAudit'] = np.where(\n",
    "    (entity['NOTES_AOO_AuditOpinion_idou'] == '标准无保留意见')|\n",
    "    (entity['NOTES_AOO_AuditOpinion_idou'] == '带强调事项段的无保留意见'),\n",
    "    True, False)\n"
   ]
  },
  {
   "cell_type": "code",
   "execution_count": 12,
   "metadata": {},
   "outputs": [],
   "source": [
    "# 行业标签【假设中央】\n",
    "entity['公司属性'] = '中央国有企业'\n",
    "\n",
    "entity_ind = entity.merge(ind4, on=['国民经济行业分类：四级', '公司属性'], how='left')\n",
    "entity_ind = entity_ind.merge(ind3, on=['国民经济行业分类：三级', '公司属性'], how='left')\n",
    "entity_ind = entity_ind.merge(ind2, on=['国民经济行业分类：二级', '公司属性'], how='left')\n",
    "entity_ind = entity_ind.merge(ind1, on=['国民经济行业分类：一级', '公司属性'], how='left')\n",
    "\n",
    "entity_ind.fillna(99999, inplace=True)\n",
    "entity_ind['评价行业_中央'] = np.where(entity_ind['评价行业：四级'] != 99999, entity_ind['评价行业：四级'],\n",
    "                                np.where(entity_ind['评价行业：三级'] != 99999, entity_ind['评价行业：三级'],\n",
    "                                         np.where(entity_ind['评价行业：二级'] != 99999, entity_ind['评价行业：二级'],\n",
    "                                                  np.where(entity_ind['评价行业：一级'] != 99999, entity_ind['评价行业：一级'], np.nan))))\n",
    "entity_ind.replace(99999, np.nan, inplace=True)"
   ]
  },
  {
   "cell_type": "code",
   "execution_count": 13,
   "metadata": {},
   "outputs": [],
   "source": [
    "# 行业标签【假设地方】\n",
    "entity_ind.drop(columns=['评价行业：四级', '评价行业：三级', '评价行业：二级', '评价行业：一级'], inplace=True)\n",
    "\n",
    "entity_ind['公司属性'] = '地方国有企业'\n",
    "\n",
    "entity_ind = entity_ind.merge(ind4, on=['国民经济行业分类：四级', '公司属性'], how='left')\n",
    "entity_ind = entity_ind.merge(ind3, on=['国民经济行业分类：三级', '公司属性'], how='left')\n",
    "entity_ind = entity_ind.merge(ind2, on=['国民经济行业分类：二级', '公司属性'], how='left')\n",
    "entity_ind = entity_ind.merge(ind1, on=['国民经济行业分类：一级', '公司属性'], how='left')\n",
    "\n",
    "entity_ind.fillna(99999, inplace=True)\n",
    "entity_ind['评价行业_地方'] = np.where(entity_ind['评价行业：四级'] != 99999, entity_ind['评价行业：四级'],\n",
    "                                np.where(entity_ind['评价行业：三级'] != 99999, entity_ind['评价行业：三级'],\n",
    "                                         np.where(entity_ind['评价行业：二级'] != 99999, entity_ind['评价行业：二级'],\n",
    "                                                  np.where(entity_ind['评价行业：一级'] != 99999, entity_ind['评价行业：一级'], np.nan))))\n",
    "entity_ind.replace(99999, np.nan, inplace=True)"
   ]
  },
  {
   "cell_type": "code",
   "execution_count": 14,
   "metadata": {},
   "outputs": [
    {
     "name": "stderr",
     "output_type": "stream",
     "text": [
      "/var/folders/21/r5tywv_91vz_8s1tgrs4qpjm0000gn/T/ipykernel_12986/3271466922.py:5: FutureWarning: The default value of regex will change from True to False in a future version. In addition, single character regular expressions will *not* be treated as literal strings when regex=True.\n",
      "  ind_rule['指标名称'] = ind_rule['指标名称'].str.replace(str_remove, '')\n"
     ]
    }
   ],
   "source": [
    "# 规模判断\n",
    "str_remove_list = [r'(', r')', 'X', 'Y', 'Z']\n",
    "\n",
    "for str_remove in str_remove_list:\n",
    "    ind_rule['指标名称'] = ind_rule['指标名称'].str.replace(str_remove, '')\n",
    "\n",
    "\n",
    "def remove_big(string):\n",
    "    p = re.compile(r'.≥')\n",
    "    new_string = re.sub(p, '', string)\n",
    "    return new_string\n",
    "\n",
    "def remove_medium_and_small(string):\n",
    "    p = re.compile(r'≤.*')\n",
    "    new_string = re.sub(p, '', string)\n",
    "    return new_string\n",
    "\n",
    "\n",
    "ind_rule['大型'] = ind_rule['大型'].apply(lambda x: remove_big(x))\n",
    "ind_rule['中型'] = ind_rule['中型'].apply(lambda x: remove_medium_and_small(x))\n",
    "ind_rule['小型'] = ind_rule['小型'].apply(lambda x: remove_medium_and_small(x))\n",
    "ind_rule.drop(columns={'微型'}, inplace=True)"
   ]
  },
  {
   "cell_type": "code",
   "execution_count": 15,
   "metadata": {},
   "outputs": [],
   "source": [
    "size_list = ['大型', '中型', '小型']\n",
    "\n",
    "for i in size_list:\n",
    "    ind_rule[i] = pd.to_numeric(ind_rule[i])"
   ]
  },
  {
   "cell_type": "code",
   "execution_count": 16,
   "metadata": {},
   "outputs": [],
   "source": [
    "ind_rule['size_rule'] = ind_rule.apply(lambda row: list(row[['大型', '中型', '小型']]), axis=1)\n",
    "ind_rule.drop(columns=['大型', '中型', '小型'], inplace=True)\n",
    "ind_rule = pd.pivot(ind_rule, index='国民经济行业分类：一级', columns='指标名称', values='size_rule').reset_index()\n",
    "\n",
    "ind_rule['size_rule'] = ind_rule.apply(lambda row: list(row[['员工总数', '营业收入', '资产总额']]), axis=1)\n",
    "ind_rule.drop(columns=['员工总数', '营业收入', '资产总额'], inplace=True)\n",
    "\n",
    "ind_rule_dict = ind_rule.set_index('国民经济行业分类：一级')['size_rule'].to_dict()"
   ]
  },
  {
   "cell_type": "code",
   "execution_count": 17,
   "metadata": {},
   "outputs": [],
   "source": [
    "entity_ind['企业规模22'] = entity_ind[['国民经济行业分类：一级', '营业收入21', '员工总数21', '资产总计21']].apply(lambda x : judge_type(list(x), ind_rule_dict),axis=1)\n",
    "entity_ind.drop(columns=['评价行业：四级', '评价行业：三级', '评价行业：二级', '评价行业：一级'], inplace=True)\n",
    "entity_ind.drop_duplicates(subset=['统一社会信用代码'], inplace=True)"
   ]
  },
  {
   "cell_type": "code",
   "execution_count": 18,
   "metadata": {},
   "outputs": [],
   "source": [
    "# 整理数据 TODO: 原数据修改后也需修改\n",
    "entity_ind.drop(\n",
    "    columns=[\n",
    "        '国民经济行业分类：一级', \n",
    "        '国民经济行业分类：二级', \n",
    "        '国民经济行业分类：三级', \n",
    "        '国民经济行业分类：四级', \n",
    "        '资产总计21', \n",
    "        '员工总数21', \n",
    "        '营业收入21', \n",
    "        '资产总计20', \n",
    "        '员工总数20', \n",
    "        '营业收入20', \n",
    "        '资产总计19', \n",
    "        '员工总数19', \n",
    "        '营业收入19', \n",
    "        '资产总计18', \n",
    "        '员工总数18', \n",
    "        '营业收入18'\n",
    "        ], \n",
    "    inplace=True)\n",
    "\n",
    "# entity_ind.rename(columns={'评价行业':'ComFeature-GeneralInd-Ind',\n",
    "#                            '企业规模22':'ComFeature-GeneralPerform-Scale'},\n",
    "#                   inplace=True)\n",
    "\n",
    "entity_ind.rename(columns={'评价行业_中央':'ComFeature-GeneralInd-Ind-1',\n",
    "                           '评价行业_地方':'ComFeature-GeneralInd-Ind-2',\n",
    "                           '企业规模22':'ComFeature-GeneralPerform-Scale'},\n",
    "                  inplace=True)"
   ]
  },
  {
   "cell_type": "code",
   "execution_count": 19,
   "metadata": {},
   "outputs": [],
   "source": [
    "entity22 = entity_ind.drop(columns=entity_ind.columns[3:18])\n",
    "entity22 = entity22.drop(columns='Increase_rate-3Y')"
   ]
  },
  {
   "cell_type": "code",
   "execution_count": 20,
   "metadata": {},
   "outputs": [
    {
     "data": {
      "text/html": [
       "<div>\n",
       "<style scoped>\n",
       "    .dataframe tbody tr th:only-of-type {\n",
       "        vertical-align: middle;\n",
       "    }\n",
       "\n",
       "    .dataframe tbody tr th {\n",
       "        vertical-align: top;\n",
       "    }\n",
       "\n",
       "    .dataframe thead th {\n",
       "        text-align: right;\n",
       "    }\n",
       "</style>\n",
       "<table border=\"1\" class=\"dataframe\">\n",
       "  <thead>\n",
       "    <tr style=\"text-align: right;\">\n",
       "      <th></th>\n",
       "      <th>证券代码</th>\n",
       "      <th>证券简称</th>\n",
       "      <th>统一社会信用代码</th>\n",
       "      <th>NOTES_AOO_AuditOpinion_idou</th>\n",
       "      <th>ComFeature-AShare-Category</th>\n",
       "      <th>ComFeature-AShare-Market</th>\n",
       "      <th>ComFeature-AShare-Local</th>\n",
       "      <th>ComFeature-ListInfo-Mainland</th>\n",
       "      <th>ComFeature-ListPerform-Increase</th>\n",
       "      <th>ComFeature-ListEquity-Diff</th>\n",
       "      <th>...</th>\n",
       "      <th>ComFeature-BondIssue-LocalBank</th>\n",
       "      <th>ComFeature-BondInd-ITBond</th>\n",
       "      <th>ComFeature-BondIssue-Conv</th>\n",
       "      <th>ComFeature-GeneralEquity-Feature</th>\n",
       "      <th>ComFeature-Ind-CountryInv</th>\n",
       "      <th>ComFeature-GeneralPerform-Audit</th>\n",
       "      <th>ComFeature-GeneralPerform-IfGoodAudit</th>\n",
       "      <th>ComFeature-GeneralInd-Ind-1</th>\n",
       "      <th>ComFeature-GeneralInd-Ind-2</th>\n",
       "      <th>ComFeature-GeneralPerform-Scale</th>\n",
       "    </tr>\n",
       "  </thead>\n",
       "  <tbody>\n",
       "    <tr>\n",
       "      <th>0</th>\n",
       "      <td>000002.SZ</td>\n",
       "      <td>万科A</td>\n",
       "      <td>91440300192181490G</td>\n",
       "      <td>NaN</td>\n",
       "      <td>A股上市</td>\n",
       "      <td>主板</td>\n",
       "      <td>深圳</td>\n",
       "      <td>True</td>\n",
       "      <td>False</td>\n",
       "      <td>False</td>\n",
       "      <td>...</td>\n",
       "      <td>False</td>\n",
       "      <td>False</td>\n",
       "      <td>False</td>\n",
       "      <td>其他</td>\n",
       "      <td>False</td>\n",
       "      <td>NaN</td>\n",
       "      <td>False</td>\n",
       "      <td>房地产开发业</td>\n",
       "      <td>地方房地产业</td>\n",
       "      <td>大型</td>\n",
       "    </tr>\n",
       "    <tr>\n",
       "      <th>1</th>\n",
       "      <td>000004.SZ</td>\n",
       "      <td>ST国华</td>\n",
       "      <td>91440300192441969E</td>\n",
       "      <td>NaN</td>\n",
       "      <td>A股上市</td>\n",
       "      <td>主板</td>\n",
       "      <td>深圳</td>\n",
       "      <td>True</td>\n",
       "      <td>False</td>\n",
       "      <td>False</td>\n",
       "      <td>...</td>\n",
       "      <td>False</td>\n",
       "      <td>False</td>\n",
       "      <td>False</td>\n",
       "      <td>其他</td>\n",
       "      <td>False</td>\n",
       "      <td>NaN</td>\n",
       "      <td>False</td>\n",
       "      <td>化学药品制造业</td>\n",
       "      <td>地方医药工业</td>\n",
       "      <td>大型</td>\n",
       "    </tr>\n",
       "  </tbody>\n",
       "</table>\n",
       "<p>2 rows × 33 columns</p>\n",
       "</div>"
      ],
      "text/plain": [
       "        证券代码  证券简称            统一社会信用代码  NOTES_AOO_AuditOpinion_idou  \\\n",
       "0  000002.SZ   万科A  91440300192181490G                          NaN   \n",
       "1  000004.SZ  ST国华  91440300192441969E                          NaN   \n",
       "\n",
       "  ComFeature-AShare-Category ComFeature-AShare-Market ComFeature-AShare-Local  \\\n",
       "0                       A股上市                       主板                      深圳   \n",
       "1                       A股上市                       主板                      深圳   \n",
       "\n",
       "   ComFeature-ListInfo-Mainland  ComFeature-ListPerform-Increase  \\\n",
       "0                          True                            False   \n",
       "1                          True                            False   \n",
       "\n",
       "   ComFeature-ListEquity-Diff  ...  ComFeature-BondIssue-LocalBank  \\\n",
       "0                       False  ...                           False   \n",
       "1                       False  ...                           False   \n",
       "\n",
       "   ComFeature-BondInd-ITBond  ComFeature-BondIssue-Conv  \\\n",
       "0                      False                      False   \n",
       "1                      False                      False   \n",
       "\n",
       "   ComFeature-GeneralEquity-Feature  ComFeature-Ind-CountryInv  \\\n",
       "0                                其他                      False   \n",
       "1                                其他                      False   \n",
       "\n",
       "   ComFeature-GeneralPerform-Audit  ComFeature-GeneralPerform-IfGoodAudit  \\\n",
       "0                              NaN                                  False   \n",
       "1                              NaN                                  False   \n",
       "\n",
       "   ComFeature-GeneralInd-Ind-1  ComFeature-GeneralInd-Ind-2  \\\n",
       "0                       房地产开发业                       地方房地产业   \n",
       "1                      化学药品制造业                       地方医药工业   \n",
       "\n",
       "   ComFeature-GeneralPerform-Scale  \n",
       "0                               大型  \n",
       "1                               大型  \n",
       "\n",
       "[2 rows x 33 columns]"
      ]
     },
     "execution_count": 20,
     "metadata": {},
     "output_type": "execute_result"
    }
   ],
   "source": [
    "entity22.head(2)"
   ]
  },
  {
   "cell_type": "code",
   "execution_count": 21,
   "metadata": {},
   "outputs": [],
   "source": [
    "save2csv(entity22, '1_带标签的主体')"
   ]
  }
 ],
 "metadata": {
  "kernelspec": {
   "display_name": "myenv",
   "language": "python",
   "name": "python3"
  },
  "language_info": {
   "codemirror_mode": {
    "name": "ipython",
    "version": 3
   },
   "file_extension": ".py",
   "mimetype": "text/x-python",
   "name": "python",
   "nbconvert_exporter": "python",
   "pygments_lexer": "ipython3",
   "version": "3.11.3"
  },
  "orig_nbformat": 4
 },
 "nbformat": 4,
 "nbformat_minor": 2
}
