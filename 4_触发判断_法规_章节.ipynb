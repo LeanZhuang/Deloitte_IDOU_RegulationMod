{
 "cells": [
  {
   "cell_type": "code",
   "execution_count": 1,
   "metadata": {},
   "outputs": [],
   "source": [
    "from datetime import datetime\n",
    "import re\n",
    "\n",
    "import pandas as pd\n",
    "import numpy as np\n",
    "\n",
    "from modules.info import *\n",
    "from modules.save2csv import *\n"
   ]
  },
  {
   "cell_type": "code",
   "execution_count": 2,
   "metadata": {},
   "outputs": [],
   "source": [
    "entity_with_law = pd.read_csv(path + 'outputs/3_法规触发结果_' + date + '.csv')\n",
    "entity_with_label = pd.read_csv(path + 'outputs/1_带标签的主体_' + date + '.csv')\n",
    "model_rule = pd.read_excel(path + 'rules/模型规则_230526.xlsx', sheet_name='法规_覆盖主体_章节')"
   ]
  },
  {
   "cell_type": "code",
   "execution_count": 3,
   "metadata": {},
   "outputs": [
    {
     "name": "stderr",
     "output_type": "stream",
     "text": [
      "/var/folders/21/r5tywv_91vz_8s1tgrs4qpjm0000gn/T/ipykernel_13035/3993447800.py:13: FutureWarning: The default value of regex will change from True to False in a future version.\n",
      "  cover_rule['cover_require'] = cover_rule['cover_require'].str.replace(r\"ComFeature-[a-zA-Z]*-[a-zA-Z]*\", '')\n",
      "/var/folders/21/r5tywv_91vz_8s1tgrs4qpjm0000gn/T/ipykernel_13035/3993447800.py:13: SettingWithCopyWarning: \n",
      "A value is trying to be set on a copy of a slice from a DataFrame.\n",
      "Try using .loc[row_indexer,col_indexer] = value instead\n",
      "\n",
      "See the caveats in the documentation: https://pandas.pydata.org/pandas-docs/stable/user_guide/indexing.html#returning-a-view-versus-a-copy\n",
      "  cover_rule['cover_require'] = cover_rule['cover_require'].str.replace(r\"ComFeature-[a-zA-Z]*-[a-zA-Z]*\", '')\n",
      "/var/folders/21/r5tywv_91vz_8s1tgrs4qpjm0000gn/T/ipykernel_13035/3993447800.py:14: SettingWithCopyWarning: \n",
      "A value is trying to be set on a copy of a slice from a DataFrame.\n",
      "Try using .loc[row_indexer,col_indexer] = value instead\n",
      "\n",
      "See the caveats in the documentation: https://pandas.pydata.org/pandas-docs/stable/user_guide/indexing.html#returning-a-view-versus-a-copy\n",
      "  cover_rule['cover_require'] = cover_rule['cover_require'].str.replace(\" = \", \"\")\n",
      "/var/folders/21/r5tywv_91vz_8s1tgrs4qpjm0000gn/T/ipykernel_13035/3993447800.py:15: SettingWithCopyWarning: \n",
      "A value is trying to be set on a copy of a slice from a DataFrame.\n",
      "Try using .loc[row_indexer,col_indexer] = value instead\n",
      "\n",
      "See the caveats in the documentation: https://pandas.pydata.org/pandas-docs/stable/user_guide/indexing.html#returning-a-view-versus-a-copy\n",
      "  cover_rule['cover_require'] = cover_rule['cover_require'].str.replace('\"', '')\n",
      "/var/folders/21/r5tywv_91vz_8s1tgrs4qpjm0000gn/T/ipykernel_13035/3993447800.py:16: SettingWithCopyWarning: \n",
      "A value is trying to be set on a copy of a slice from a DataFrame.\n",
      "Try using .loc[row_indexer,col_indexer] = value instead\n",
      "\n",
      "See the caveats in the documentation: https://pandas.pydata.org/pandas-docs/stable/user_guide/indexing.html#returning-a-view-versus-a-copy\n",
      "  cover_rule['cover_require'] = cover_rule['cover_require'].str.replace('FALSE', '0')\n",
      "/var/folders/21/r5tywv_91vz_8s1tgrs4qpjm0000gn/T/ipykernel_13035/3993447800.py:17: SettingWithCopyWarning: \n",
      "A value is trying to be set on a copy of a slice from a DataFrame.\n",
      "Try using .loc[row_indexer,col_indexer] = value instead\n",
      "\n",
      "See the caveats in the documentation: https://pandas.pydata.org/pandas-docs/stable/user_guide/indexing.html#returning-a-view-versus-a-copy\n",
      "  cover_rule['cover_require'] = cover_rule['cover_require'].str.replace('TRUE', '1')\n"
     ]
    }
   ],
   "source": [
    "# 整理DataFrame\n",
    "model_rule.rename(columns={'覆盖要求': 'cover_require',\n",
    "                           '覆盖主体编码': 'cover_code',\n",
    "                           '标签编码': 'label_code',\n",
    "                           '法规编码':'law',\n",
    "                           '章节编码':'chapter_code'}, inplace=True)\n",
    "entity_with_label.rename(columns={'证券代码': 'stock_code',\n",
    "                                  '证券简称': 'stock_name',\n",
    "                                  '统一社会信用代码': 'uniform_credit'}, inplace=True)\n",
    "\n",
    "cover_rule = model_rule[['label_code', 'cover_require', 'cover_code']]\n",
    "\n",
    "cover_rule['cover_require'] = cover_rule['cover_require'].str.replace(r\"ComFeature-[a-zA-Z]*-[a-zA-Z]*\", '')\n",
    "cover_rule['cover_require'] = cover_rule['cover_require'].str.replace(\" = \", \"\")\n",
    "cover_rule['cover_require'] = cover_rule['cover_require'].str.replace('\"', '')\n",
    "cover_rule['cover_require'] = cover_rule['cover_require'].str.replace('FALSE', '0')\n",
    "cover_rule['cover_require'] = cover_rule['cover_require'].str.replace('TRUE', '1')\n"
   ]
  },
  {
   "cell_type": "code",
   "execution_count": 4,
   "metadata": {},
   "outputs": [],
   "source": [
    "# 判断主体覆盖特征是否满足\n",
    "entity_with_label_melted = entity_with_label.melt(id_vars=['stock_code', 'stock_name', 'uniform_credit'],\n",
    "                                                  var_name='label_code',\n",
    "                                                  value_name='label_value')\n",
    "entity_with_label_melted['label_value'] = np.where(entity_with_label_melted['label_value'] == True, '1', entity_with_label_melted['label_value'])\n",
    "entity_with_label_melted['label_value'] = np.where(entity_with_label_melted['label_value'] == False, '0', entity_with_label_melted['label_value'])\n",
    "\n",
    "entity_with_cover = pd.merge(entity_with_label_melted, cover_rule, on=['label_code'])\n",
    "entity_with_cover['whether_meet'] = np.where(entity_with_cover['label_value'] == entity_with_cover['cover_require'], True, False)"
   ]
  },
  {
   "cell_type": "code",
   "execution_count": 5,
   "metadata": {},
   "outputs": [],
   "source": [
    "# 判断是否属于章节触发需覆盖的主体\n",
    "grouped = entity_with_cover.groupby(['stock_code', 'stock_name', 'uniform_credit', 'cover_code'])\n",
    "entity_with_cover['whether_cover'] = grouped['whether_meet'].transform('all')\n",
    "entity_with_cover.drop(columns=['label_code', 'label_value', 'cover_require', 'whether_meet'], inplace=True)\n",
    "entity_with_cover.drop_duplicates(inplace=True)\n"
   ]
  },
  {
   "cell_type": "code",
   "execution_count": 6,
   "metadata": {},
   "outputs": [
    {
     "name": "stderr",
     "output_type": "stream",
     "text": [
      "/var/folders/21/r5tywv_91vz_8s1tgrs4qpjm0000gn/T/ipykernel_13035/570116477.py:5: SettingWithCopyWarning: \n",
      "A value is trying to be set on a copy of a slice from a DataFrame\n",
      "\n",
      "See the caveats in the documentation: https://pandas.pydata.org/pandas-docs/stable/user_guide/indexing.html#returning-a-view-versus-a-copy\n",
      "  chapter.drop_duplicates(inplace=True)\n"
     ]
    }
   ],
   "source": [
    "# 合并所有需要的DataFrame\n",
    "entity_with_law_and_cover = pd.merge(entity_with_law, entity_with_cover, on=['stock_code', 'stock_name', 'uniform_credit'], how='left')\n",
    "\n",
    "chapter = model_rule[['law', 'cover_code', 'chapter_code']]\n",
    "chapter.drop_duplicates(inplace=True)\n",
    "\n",
    "entity_with_law_and_cover = pd.merge(entity_with_law_and_cover, chapter, on=['law', 'cover_code'], how='left')\n",
    "entity_with_law_and_cover.dropna(subset='chapter_code', inplace=True)\n",
    "entity_with_law_and_cover.drop(columns=['entity_id', 'uniform_credit'], inplace=True)\n"
   ]
  },
  {
   "cell_type": "code",
   "execution_count": 7,
   "metadata": {},
   "outputs": [
    {
     "data": {
      "text/html": [
       "<div>\n",
       "<style scoped>\n",
       "    .dataframe tbody tr th:only-of-type {\n",
       "        vertical-align: middle;\n",
       "    }\n",
       "\n",
       "    .dataframe tbody tr th {\n",
       "        vertical-align: top;\n",
       "    }\n",
       "\n",
       "    .dataframe thead th {\n",
       "        text-align: right;\n",
       "    }\n",
       "</style>\n",
       "<table border=\"1\" class=\"dataframe\">\n",
       "  <thead>\n",
       "    <tr style=\"text-align: right;\">\n",
       "      <th></th>\n",
       "      <th>stock_code</th>\n",
       "      <th>stock_name</th>\n",
       "      <th>entity_name</th>\n",
       "      <th>year</th>\n",
       "      <th>chapter_code</th>\n",
       "      <th>chapter_result_danger</th>\n",
       "      <th>chapter_result_normal</th>\n",
       "    </tr>\n",
       "  </thead>\n",
       "  <tbody>\n",
       "    <tr>\n",
       "      <th>26</th>\n",
       "      <td>000002.SZ</td>\n",
       "      <td>万科A</td>\n",
       "      <td>万科企业股份有限公司</td>\n",
       "      <td>2021</td>\n",
       "      <td>BSE-IPOLaw-2</td>\n",
       "      <td>False</td>\n",
       "      <td>False</td>\n",
       "    </tr>\n",
       "    <tr>\n",
       "      <th>69</th>\n",
       "      <td>000002.SZ</td>\n",
       "      <td>万科A</td>\n",
       "      <td>万科企业股份有限公司</td>\n",
       "      <td>2020</td>\n",
       "      <td>BSE-IPOLaw-2</td>\n",
       "      <td>False</td>\n",
       "      <td>False</td>\n",
       "    </tr>\n",
       "    <tr>\n",
       "      <th>112</th>\n",
       "      <td>000002.SZ</td>\n",
       "      <td>万科A</td>\n",
       "      <td>万科企业股份有限公司</td>\n",
       "      <td>2019</td>\n",
       "      <td>BSE-IPOLaw-2</td>\n",
       "      <td>False</td>\n",
       "      <td>False</td>\n",
       "    </tr>\n",
       "    <tr>\n",
       "      <th>161</th>\n",
       "      <td>000006.SZ</td>\n",
       "      <td>深振业A</td>\n",
       "      <td>深圳市振业(集团)股份有限公司</td>\n",
       "      <td>2021</td>\n",
       "      <td>BSE-IPOLaw-2</td>\n",
       "      <td>False</td>\n",
       "      <td>False</td>\n",
       "    </tr>\n",
       "    <tr>\n",
       "      <th>204</th>\n",
       "      <td>000006.SZ</td>\n",
       "      <td>深振业A</td>\n",
       "      <td>深圳市振业(集团)股份有限公司</td>\n",
       "      <td>2020</td>\n",
       "      <td>BSE-IPOLaw-2</td>\n",
       "      <td>False</td>\n",
       "      <td>False</td>\n",
       "    </tr>\n",
       "  </tbody>\n",
       "</table>\n",
       "</div>"
      ],
      "text/plain": [
       "    stock_code stock_name      entity_name  year  chapter_code  \\\n",
       "26   000002.SZ        万科A       万科企业股份有限公司  2021  BSE-IPOLaw-2   \n",
       "69   000002.SZ        万科A       万科企业股份有限公司  2020  BSE-IPOLaw-2   \n",
       "112  000002.SZ        万科A       万科企业股份有限公司  2019  BSE-IPOLaw-2   \n",
       "161  000006.SZ       深振业A  深圳市振业(集团)股份有限公司  2021  BSE-IPOLaw-2   \n",
       "204  000006.SZ       深振业A  深圳市振业(集团)股份有限公司  2020  BSE-IPOLaw-2   \n",
       "\n",
       "     chapter_result_danger  chapter_result_normal  \n",
       "26                   False                  False  \n",
       "69                   False                  False  \n",
       "112                  False                  False  \n",
       "161                  False                  False  \n",
       "204                  False                  False  "
      ]
     },
     "execution_count": 7,
     "metadata": {},
     "output_type": "execute_result"
    }
   ],
   "source": [
    "# 先进行章节触发判断\n",
    "grouped = entity_with_law_and_cover.groupby(['stock_code', 'stock_name', 'entity_name', 'year', 'law'])\n",
    "entity_with_law_and_cover['chapter_result_danger'] = grouped['law_result_danger'].transform('any')\n",
    "entity_with_law_and_cover['chapter_result_normal'] = grouped['law_result_normal'].transform('any')\n",
    "entity_with_law_and_cover\n",
    "\n",
    "# 随后加入主体覆盖判断\n",
    "entity_with_law_and_cover['chapter_result_danger'] = np.where(entity_with_law_and_cover['whether_cover'] == False, False, entity_with_law_and_cover['chapter_result_danger'])\n",
    "entity_with_law_and_cover['chapter_result_normal'] = np.where(entity_with_law_and_cover['whether_cover'] == False, False, entity_with_law_and_cover['chapter_result_normal'])\n",
    "\n",
    "# 删除不必要的列与重复行\n",
    "entity_with_law_and_cover.drop(columns=['law', 'law_result_danger', 'law_result_normal', 'cover_code', 'whether_cover'], inplace=True)\n",
    "entity_with_law_and_cover.drop_duplicates(inplace=True)\n",
    "\n",
    "# 调整列位置\n",
    "entity_with_law_and_cover.insert(0,'stock_code', entity_with_law_and_cover.pop('stock_code'))\n",
    "entity_with_law_and_cover.insert(1,'stock_name', entity_with_law_and_cover.pop('stock_name'))\n",
    "entity_with_law_and_cover.insert(2,'entity_name', entity_with_law_and_cover.pop('entity_name'))\n",
    "\n",
    "entity_with_law_and_cover.head()"
   ]
  },
  {
   "cell_type": "code",
   "execution_count": 8,
   "metadata": {},
   "outputs": [],
   "source": [
    "save2csv(entity_with_law_and_cover, '4_章节触发结果')"
   ]
  }
 ],
 "metadata": {
  "kernelspec": {
   "display_name": "myenv",
   "language": "python",
   "name": "python3"
  },
  "language_info": {
   "codemirror_mode": {
    "name": "ipython",
    "version": 3
   },
   "file_extension": ".py",
   "mimetype": "text/x-python",
   "name": "python",
   "nbconvert_exporter": "python",
   "pygments_lexer": "ipython3",
   "version": "3.11.3"
  },
  "orig_nbformat": 4
 },
 "nbformat": 4,
 "nbformat_minor": 2
}
